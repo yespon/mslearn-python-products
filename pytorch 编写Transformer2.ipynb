{
 "cells": [
  {
   "cell_type": "code",
   "execution_count": 3,
   "metadata": {},
   "outputs": [],
   "source": [
    "import torch\n",
    "import torch.nn as nn\n",
    "from torch.nn.parameter import Parameter\n",
    "from torch.nn.init import xavier_uniform_\n",
    "from torch.nn.init import constant_\n",
    "from torch.nn.init import xavier_normal_\n",
    "import torch.nn.functional as F\n",
    "from typing import Optional, Tuple, Any\n",
    "from typing import List, Optional, Tuple\n",
    "import math\n",
    "import warnings"
   ]
  },
  {
   "cell_type": "markdown",
   "metadata": {},
   "source": [
    "### 词嵌入"
   ]
  },
  {
   "cell_type": "code",
   "execution_count": 4,
   "metadata": {},
   "outputs": [
    {
     "name": "stdout",
     "output_type": "stream",
     "text": [
      "torch.Size([2, 4, 8])\n"
     ]
    }
   ],
   "source": [
    "X = torch.zeros((2, 4), dtype=torch.long)\n",
    "embed = nn.Embedding(10, 8)\n",
    "print(embed(X).shape)"
   ]
  },
  {
   "cell_type": "markdown",
   "metadata": {},
   "source": [
    "### 位置编码"
   ]
  },
  {
   "cell_type": "code",
   "execution_count": 5,
   "metadata": {},
   "outputs": [],
   "source": [
    "Tensor = torch.Tensor\n",
    "\n",
    "def positional_encoding(X, num_features, dropout_p=0.1, max_len=512) -> Tensor:\n",
    "    r'''\n",
    "            给输入加入位置编码\n",
    "    参数：\n",
    "        - num_features: 输入进来的维度\n",
    "        - dropout_p: dropout的概率，当其为非零时执行dropout\n",
    "        - max_len: 句子的最大长度，默认512\n",
    "    \n",
    "    形状：\n",
    "        - 输入： [batch_size, seq_length, num_features]\n",
    "        - 输出： [batch_size, seq_length, num_features]\n",
    "\n",
    "    例子：\n",
    "        >>> X = torch.randn((2,4,10))\n",
    "        >>> X = positional_encoding(X, 10)\n",
    "        >>> print(X.shape)\n",
    "        >>> torch.Size([2, 4, 10])\n",
    "    '''\n",
    "    dropout = nn.Dropout(dropout_p)\n",
    "    P = torch.zeros((1, max_len, num_features))\n",
    "    X_ = torch.arange(max_len, dtype=torch.float32).reshape(-1, 1) / torch.pow(\n",
    "        10000,\n",
    "        torch.arange(0, num_features, 2, dtype=torch.float32) / num_features\n",
    "    )\n",
    "    P[:, :, 0::2] = torch.sin(X_)\n",
    "    P[:, :, 1::2] = torch.cos(X_)\n",
    "    X = X + P[:, :X.shape[1], :].to(X.device)\n",
    "    return dropout(X)"
   ]
  },
  {
   "cell_type": "code",
   "execution_count": 6,
   "metadata": {},
   "outputs": [
    {
     "name": "stdout",
     "output_type": "stream",
     "text": [
      "torch.Size([2, 4, 10])\n"
     ]
    }
   ],
   "source": [
    "# 位置编码例子\n",
    "X = torch.randn((2, 4, 10))\n",
    "X = positional_encoding(X, 10)\n",
    "print(X.shape)"
   ]
  },
  {
   "cell_type": "markdown",
   "metadata": {},
   "source": [
    "### 多头注意力\n",
    "\n",
    "#### 拆开看多头注意力机制\n"
   ]
  },
  {
   "cell_type": "code",
   "execution_count": null,
   "metadata": {},
   "outputs": [],
   "source": [
    "if self._qkv_same_embed_dim is False:\n",
    "    #"
   ]
  },
  {
   "cell_type": "code",
   "execution_count": null,
   "metadata": {},
   "outputs": [],
   "source": [
    "### 完整的多头注意力机制 —— MultiheadAttention\n"
   ]
  },
  {
   "cell_type": "code",
   "execution_count": null,
   "metadata": {},
   "outputs": [],
   "source": []
  }
 ],
 "metadata": {
  "kernelspec": {
   "display_name": "Python 3",
   "language": "python",
   "name": "python3"
  },
  "language_info": {
   "codemirror_mode": {
    "name": "ipython",
    "version": 3
   },
   "file_extension": ".py",
   "mimetype": "text/x-python",
   "name": "python",
   "nbconvert_exporter": "python",
   "pygments_lexer": "ipython3",
   "version": "3.11.8"
  }
 },
 "nbformat": 4,
 "nbformat_minor": 2
}
